{
  "nbformat": 4,
  "nbformat_minor": 0,
  "metadata": {
    "colab": {
      "name": "20210317.ipynb",
      "provenance": [],
      "collapsed_sections": [],
      "authorship_tag": "ABX9TyMj/LRdifMgEkGUIcFAqeXW",
      "include_colab_link": true
    },
    "kernelspec": {
      "name": "python3",
      "display_name": "Python 3"
    }
  },
  "cells": [
    {
      "cell_type": "markdown",
      "metadata": {
        "id": "view-in-github",
        "colab_type": "text"
      },
      "source": [
        "<a href=\"https://colab.research.google.com/github/jh0118/class2021SPRING/blob/main/20210317.ipynb\" target=\"_parent\"><img src=\"https://colab.research.google.com/assets/colab-badge.svg\" alt=\"Open In Colab\"/></a>"
      ]
    },
    {
      "cell_type": "code",
      "metadata": {
        "colab": {
          "base_uri": "https://localhost:8080/"
        },
        "id": "VxwTX1XMulIr",
        "outputId": "00a75993-8c88-4f12-b425-a1ba508eb58a"
      },
      "source": [
        "# for / for / if\r\n",
        "for i in range(3): # 0 1 2\r\n",
        "    for j in range(5): # 0 1 2 3 4\r\n",
        "        if j >=3: \r\n",
        "            print(i+j)"
      ],
      "execution_count": 12,
      "outputs": [
        {
          "output_type": "stream",
          "text": [
            "3\n",
            "4\n",
            "4\n",
            "5\n",
            "5\n",
            "6\n"
          ],
          "name": "stdout"
        }
      ]
    },
    {
      "cell_type": "code",
      "metadata": {
        "colab": {
          "base_uri": "https://localhost:8080/"
        },
        "id": "VS3t2YBSu1Ja",
        "outputId": "bba7d2a4-c815-4c89-f09d-d1d07494e12b"
      },
      "source": [
        "# loop list\r\n",
        "IO = ['eb', 'skr', 'hw', 'yn', 'cy', 'cw', 'mj', 'ybk', 'htm', 'yr', 'yj', 'wy']\r\n",
        "KM = [i for i in IO if len(i) == 2]\r\n",
        "KM"
      ],
      "execution_count": 13,
      "outputs": [
        {
          "output_type": "execute_result",
          "data": {
            "text/plain": [
              "['eb', 'hw', 'yn', 'cy', 'cw', 'mj', 'yr', 'yj', 'wy']"
            ]
          },
          "metadata": {
            "tags": []
          },
          "execution_count": 13
        }
      ]
    }
  ]
}