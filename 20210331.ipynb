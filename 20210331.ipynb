{
  "nbformat": 4,
  "nbformat_minor": 0,
  "metadata": {
    "colab": {
      "name": "20210331.ipynb",
      "provenance": [],
      "authorship_tag": "ABX9TyOZ0V5nts0BPXDMVs10rlZZ",
      "include_colab_link": true
    },
    "kernelspec": {
      "name": "python3",
      "display_name": "Python 3"
    },
    "language_info": {
      "name": "python"
    }
  },
  "cells": [
    {
      "cell_type": "markdown",
      "metadata": {
        "id": "view-in-github",
        "colab_type": "text"
      },
      "source": [
        "<a href=\"https://colab.research.google.com/github/jh0118/class2021SPRING/blob/main/20210331.ipynb\" target=\"_parent\"><img src=\"https://colab.research.google.com/assets/colab-badge.svg\" alt=\"Open In Colab\"/></a>"
      ]
    },
    {
      "cell_type": "markdown",
      "metadata": {
        "id": "4xkh9LPM5Q_1"
      },
      "source": [
        "##/a/\n",
        "**Pitch** \n",
        "\n",
        "174.5091204059512 Hz\n",
        "\n",
        "\n",
        "**Intensity** \n",
        "\n",
        "76.47267647688376 dB\n",
        "\n",
        "\n",
        "\n",
        "**Formant** \n",
        "F1: 1005.075845879002 Hz\n",
        "\n",
        "F2: 1363.6248278967412 Hz\n",
        "\n",
        "\n",
        "**Duration** \n",
        "\n",
        "0.655658sec\n",
        "\n",
        "\n",
        "\n",
        "-\n",
        "\n",
        "\n",
        "##/e/\n",
        "**Pitch** \n",
        "\n",
        "175.9129608439588 Hz\n",
        "\n",
        "**Intensity** \n",
        "\n",
        "75.87315319032935dB\n",
        "\n",
        "**Formant** \n",
        "\n",
        "F1: 653.0361866230297 Hz, F2: 2189.728781129333 Hz\n",
        "\n",
        "**Duration** \n",
        "\n",
        "0.805645sec\n"
      ]
    }
  ]
}