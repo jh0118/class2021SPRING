{
  "nbformat": 4,
  "nbformat_minor": 0,
  "metadata": {
    "colab": {
      "name": "programming.ipynb",
      "provenance": [],
      "collapsed_sections": [],
      "authorship_tag": "ABX9TyMCzLLqLWOISjgAF8qw/Yd1",
      "include_colab_link": true
    },
    "kernelspec": {
      "name": "python3",
      "display_name": "Python 3"
    }
  },
  "cells": [
    {
      "cell_type": "markdown",
      "metadata": {
        "id": "view-in-github",
        "colab_type": "text"
      },
      "source": [
        "<a href=\"https://colab.research.google.com/github/jh0118/class2021SPRING/blob/main/programming.ipynb\" target=\"_parent\"><img src=\"https://colab.research.google.com/assets/colab-badge.svg\" alt=\"Open In Colab\"/></a>"
      ]
    },
    {
      "cell_type": "markdown",
      "metadata": {
        "id": "7_YTtJwfo5e8"
      },
      "source": [
        "# 프로그래밍 언어\r\n",
        "프로그래밍 언어에도 인간의 언어처럼 단어와 문법이 존재한다.\r\n",
        "\r\n",
        "\r\n",
        "## 변수\r\n",
        "a=1\r\n",
        "b=3\r\n",
        "c='love'\r\n",
        "\r\n",
        "이처럼 \"변수에 내용을 저장하는 형태\"로 단어를 정의할 수 있다. \r\n",
        "\r\n",
        "## 제어문\r\n",
        "a = 1\r\n",
        "\r\n",
        "if a == 1:\r\n",
        "\r\n",
        "  print(3)\r\n",
        "\r\n",
        "반복문(for, 지정한 횟수만큼 작업을 반복), 조건문(if, 일정한 조건을 지정) 등이 있다.\r\n",
        "\r\n",
        "##함수\r\n",
        "y=ax+b (일차함수)\r\n",
        "\r\n",
        "인풋(x), 아웃풋(y) 사이의 관계를 나타낸다. \r\n",
        "\r\n",
        "인간의 몸에서 일어나는 생체 현상 역시 수많은 함수의 복합체라고 볼 수 있으며, AI의 경우 많은 일차함수의 반복을 통해 작업을 처리하게 된다."
      ]
    }
  ]
}