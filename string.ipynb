{
  "nbformat": 4,
  "nbformat_minor": 0,
  "metadata": {
    "kernelspec": {
      "display_name": "Python 3",
      "language": "python",
      "name": "python3"
    },
    "language_info": {
      "codemirror_mode": {
        "name": "ipython",
        "version": 3
      },
      "file_extension": ".py",
      "mimetype": "text/x-python",
      "name": "python",
      "nbconvert_exporter": "python",
      "pygments_lexer": "ipython3",
      "version": "3.7.1"
    },
    "colab": {
      "name": "string.ipynb",
      "provenance": [],
      "include_colab_link": true
    }
  },
  "cells": [
    {
      "cell_type": "markdown",
      "metadata": {
        "id": "view-in-github",
        "colab_type": "text"
      },
      "source": [
        "<a href=\"https://colab.research.google.com/github/jh0118/class2021SPRING/blob/main/string.ipynb\" target=\"_parent\"><img src=\"https://colab.research.google.com/assets/colab-badge.svg\" alt=\"Open In Colab\"/></a>"
      ]
    },
    {
      "cell_type": "markdown",
      "metadata": {
        "id": "W717lLUgJPbd"
      },
      "source": [
        "##**인덱싱(indexing)**\r\n",
        "\r\n",
        "[a:b]는 a<=x<b 자리에 위치한 값들을 반환함.\r\n",
        "\r\n",
        "n자리라고 하면 첫 자리부터 0, 1, 2, ..., n-1이고, 끝자리부터 -1, -2, -3, ..., -n.\r\n"
      ]
    },
    {
      "cell_type": "code",
      "metadata": {
        "id": "q3rAOE-wurKY",
        "outputId": "bb9f9709-7368-4fd8-cb64-fd29c5d827fa"
      },
      "source": [
        "s = 'abcdef'\n",
        "print(s[0], s[5], s[-1], s[-6])\n",
        "print(s[1:3], s[1:], s[:3], s[:])"
      ],
      "execution_count": null,
      "outputs": [
        {
          "output_type": "stream",
          "text": [
            "<class 'str'>\n",
            "a f f a\n",
            "bc bcdef abc abcdef\n"
          ],
          "name": "stdout"
        }
      ]
    },
    {
      "cell_type": "code",
      "metadata": {
        "id": "6gW7LcAjurKe",
        "outputId": "470ab62e-551e-4682-e421-4ceb10ae572f"
      },
      "source": [
        "n = [100, 200, 300]\n",
        "print(n[0], n[2], n[-1], n[-3])\n",
        "print(n[1:2], n[1:], n[:2], n[:])"
      ],
      "execution_count": null,
      "outputs": [
        {
          "output_type": "stream",
          "text": [
            "100 300 300 100\n",
            "[200] [200, 300] [100, 200] [100, 200, 300]\n"
          ],
          "name": "stdout"
        }
      ]
    },
    {
      "cell_type": "markdown",
      "metadata": {
        "id": "dHDKR5A7Ky8m"
      },
      "source": [
        "**len() :개수를 반환.**"
      ]
    },
    {
      "cell_type": "code",
      "metadata": {
        "id": "yhH3dnJJurKf",
        "outputId": "89e99b51-f056-4dc4-deba-bf8b757dc4be"
      },
      "source": [
        "len(s)"
      ],
      "execution_count": null,
      "outputs": [
        {
          "output_type": "execute_result",
          "data": {
            "text/plain": [
              "6"
            ]
          },
          "metadata": {
            "tags": []
          },
          "execution_count": 4
        }
      ]
    },
    {
      "cell_type": "code",
      "metadata": {
        "id": "CuIxLEgWurKf",
        "outputId": "c4761aae-98cc-49d9-ba14-b29539b23da2"
      },
      "source": [
        "s[1]+s[3]+s[4:]*10"
      ],
      "execution_count": null,
      "outputs": [
        {
          "output_type": "execute_result",
          "data": {
            "text/plain": [
              "'bdefefefefefefefefefef'"
            ]
          },
          "metadata": {
            "tags": []
          },
          "execution_count": 5
        }
      ]
    },
    {
      "cell_type": "markdown",
      "metadata": {
        "id": "feiCFcD5KWEq"
      },
      "source": [
        "**s.upper() : 모두 대문자로**\r\n",
        "\r\n",
        "**s.lower() : 모두 소문자로**\r\n",
        "\r\n",
        "'표현'하는 것이지 데이터 자체를 바꾸는 것이 아니다."
      ]
    },
    {
      "cell_type": "code",
      "metadata": {
        "id": "B-4Qj7h5urKg",
        "outputId": "df319b55-b2fa-4fe2-d125-b487ac8f2f5e"
      },
      "source": [
        "s.upper()"
      ],
      "execution_count": null,
      "outputs": [
        {
          "output_type": "execute_result",
          "data": {
            "text/plain": [
              "'ABCDEF'"
            ]
          },
          "metadata": {
            "tags": []
          },
          "execution_count": 7
        }
      ]
    },
    {
      "cell_type": "markdown",
      "metadata": {
        "id": "yRNqy7sTLOO-"
      },
      "source": [
        "## **문자열 찾기**\r\n",
        "**s.find()** : 처음 등장하는 문자열의 인덱스 번호 출력. 없을 시 -1 출력.\r\n",
        "\r\n",
        "**s.index()** : 왼쪽부터 처음 등장하는 문자열의 인덱스 번호 출력. 없을 시 에러 발생.\r\n",
        "\r\n",
        "**s.rindex()** : 오른쪽부터 찾는 index. 없을 시 에러 발생.\r\n"
      ]
    },
    {
      "cell_type": "code",
      "metadata": {
        "id": "NH4kiUqBurKg",
        "outputId": "c03bfd55-2655-4b3d-f437-6abd57d1ccc3"
      },
      "source": [
        "s = ' this is a house built this year.\\n' \t\n",
        "s"
      ],
      "execution_count": null,
      "outputs": [
        {
          "output_type": "execute_result",
          "data": {
            "text/plain": [
              "' this is a house built this year.\\n'"
            ]
          },
          "metadata": {
            "tags": []
          },
          "execution_count": 10
        }
      ]
    },
    {
      "cell_type": "code",
      "metadata": {
        "id": "fLQKJxqgurKg",
        "outputId": "43252659-8fb0-4261-ec80-8758a1d86a79"
      },
      "source": [
        "result = s.find('house') \t    # index of first instance of string t inside s (-1 if not found)\n",
        "result"
      ],
      "execution_count": null,
      "outputs": [
        {
          "output_type": "execute_result",
          "data": {
            "text/plain": [
              "11"
            ]
          },
          "metadata": {
            "tags": []
          },
          "execution_count": 11
        }
      ]
    },
    {
      "cell_type": "code",
      "metadata": {
        "id": "q8gAMAnFurKh",
        "outputId": "36b66681-67a4-4958-cbfd-cd9e57529ef1"
      },
      "source": [
        "result = s.find('this')\t    # index of last instance of string t inside s (-1 if not found)\n",
        "result"
      ],
      "execution_count": null,
      "outputs": [
        {
          "output_type": "execute_result",
          "data": {
            "text/plain": [
              "1"
            ]
          },
          "metadata": {
            "tags": []
          },
          "execution_count": 12
        }
      ]
    },
    {
      "cell_type": "code",
      "metadata": {
        "id": "hEP3BGLIurKh",
        "outputId": "a62e6a3a-eb2d-4333-cb13-7cac15ed6451"
      },
      "source": [
        "result = s.rindex('this')        # like s.find(t) except it raises ValueError if not found\n",
        "result"
      ],
      "execution_count": null,
      "outputs": [
        {
          "output_type": "execute_result",
          "data": {
            "text/plain": [
              "23"
            ]
          },
          "metadata": {
            "tags": []
          },
          "execution_count": 13
        }
      ]
    },
    {
      "cell_type": "markdown",
      "metadata": {
        "id": "I7RXaqPTMFL6"
      },
      "source": [
        "**s.strip()**: 문자열 양옆의 공백 문자 지우기"
      ]
    },
    {
      "cell_type": "code",
      "metadata": {
        "id": "CpFnxuosurKh",
        "outputId": "b8e27bc2-845d-4667-b5e9-006cef0216cf"
      },
      "source": [
        "s = s.strip()      \t            # a copy of s without leading or trailing whitespace\n",
        "s"
      ],
      "execution_count": null,
      "outputs": [
        {
          "output_type": "execute_result",
          "data": {
            "text/plain": [
              "'this is a house built this year.'"
            ]
          },
          "metadata": {
            "tags": []
          },
          "execution_count": 14
        }
      ]
    },
    {
      "cell_type": "markdown",
      "metadata": {
        "id": "WBtJILxoMlTq"
      },
      "source": [
        "**s.split()** : 괄호 안의 자료값을 기준으로 s를 쪼개어 리스트에 담기."
      ]
    },
    {
      "cell_type": "code",
      "metadata": {
        "id": "2upnpA4aurKi",
        "outputId": "a18d13c9-a9af-4bfc-f6aa-c1544753e4d7"
      },
      "source": [
        "tokens = s.split(' ')\t        # split s into a list wherever a t is found (whitespace by default)\n",
        "tokens"
      ],
      "execution_count": null,
      "outputs": [
        {
          "output_type": "execute_result",
          "data": {
            "text/plain": [
              "['this', 'is', 'a', 'house', 'built', 'this', 'year.']"
            ]
          },
          "metadata": {
            "tags": []
          },
          "execution_count": 15
        }
      ]
    },
    {
      "cell_type": "markdown",
      "metadata": {
        "id": "UC0a65PwM6ku"
      },
      "source": [
        "**s.join()** : 괄호 안의 값으로 리스트 s의 원소들을 묶어 하나의 문자열로 만든다."
      ]
    },
    {
      "cell_type": "code",
      "metadata": {
        "id": "HIUkcuqaurKi",
        "outputId": "b795e3ba-6271-4b95-b3d0-0dca7864e9c4"
      },
      "source": [
        "s = ' '.join(tokens)\t        # combine the words of the text into a string using s as the glue\n",
        "s"
      ],
      "execution_count": null,
      "outputs": [
        {
          "output_type": "execute_result",
          "data": {
            "text/plain": [
              "'this is a house built this year.'"
            ]
          },
          "metadata": {
            "tags": []
          },
          "execution_count": 16
        }
      ]
    },
    {
      "cell_type": "markdown",
      "metadata": {
        "id": "-OZclnkNNNTT"
      },
      "source": [
        "**s.replace('a', 'b')** : s에서 'a'를 'b'로 대체한다."
      ]
    },
    {
      "cell_type": "code",
      "metadata": {
        "id": "NZC37X6eurKi",
        "outputId": "a297beb1-d89c-49a6-a922-258a8d3df5e4"
      },
      "source": [
        "s = s.replace('this', 'that')   # replace instances of t with u inside s\n",
        "s"
      ],
      "execution_count": null,
      "outputs": [
        {
          "output_type": "execute_result",
          "data": {
            "text/plain": [
              "'that is a house built that year.'"
            ]
          },
          "metadata": {
            "tags": []
          },
          "execution_count": 17
        }
      ]
    }
  ]
}