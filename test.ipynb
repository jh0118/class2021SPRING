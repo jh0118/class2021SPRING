{
  "nbformat": 4,
  "nbformat_minor": 0,
  "metadata": {
    "colab": {
      "name": "test.ipynb",
      "provenance": [],
      "collapsed_sections": [],
      "toc_visible": true,
      "authorship_tag": "ABX9TyNrirkU/86YL+eI/sf+xkv2",
      "include_colab_link": true
    },
    "kernelspec": {
      "name": "python3",
      "display_name": "Python 3"
    }
  },
  "cells": [
    {
      "cell_type": "markdown",
      "metadata": {
        "id": "view-in-github",
        "colab_type": "text"
      },
      "source": [
        "<a href=\"https://colab.research.google.com/github/jh0118/class2021SPRING/blob/main/test.ipynb\" target=\"_parent\"><img src=\"https://colab.research.google.com/assets/colab-badge.svg\" alt=\"Open In Colab\"/></a>"
      ]
    },
    {
      "cell_type": "markdown",
      "metadata": {
        "id": "Qkp5Oi4zVtZG"
      },
      "source": [
        ""
      ]
    },
    {
      "cell_type": "code",
      "metadata": {
        "colab": {
          "base_uri": "https://localhost:8080/"
        },
        "id": "aDTLhn-1VtIg",
        "outputId": "ea64bfa9-6b0f-4746-ef03-d503d3e15ce8"
      },
      "source": [
        "a=1\r\n",
        "b=1\r\n",
        "c=a+b\r\n",
        "c"
      ],
      "execution_count": 2,
      "outputs": [
        {
          "output_type": "execute_result",
          "data": {
            "text/plain": [
              "2"
            ]
          },
          "metadata": {
            "tags": []
          },
          "execution_count": 2
        }
      ]
    },
    {
      "cell_type": "markdown",
      "metadata": {
        "id": "f5ZJ0x9jV3-n"
      },
      "source": [
        "# ***우리는* 파이썬을 배우게 됩니다.**"
      ]
    },
    {
      "cell_type": "markdown",
      "metadata": {
        "id": "KwStwfOaWOR1"
      },
      "source": [
        "# **파이썬을 어디서 배우나요?**\r\n",
        "### **Jump to Python**"
      ]
    }
  ]
}